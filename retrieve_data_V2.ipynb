{
 "cells": [
  {
   "cell_type": "code",
   "execution_count": null,
   "metadata": {},
   "outputs": [],
   "source": [
    "# Dependencies\n",
    "import requests\n",
    "import time\n",
    "from dotenv import load_dotenv\n",
    "import os\n",
    "import pandas as pd\n",
    "import json\n",
    "import os\n",
    "from datetime import datetime\n",
    "## Load the NASA_API_Key from the env file\n",
    "load_dotenv()\n",
    "api_key = os.getenv('NASA_API_Key')"
   ]
  },
  {
   "cell_type": "code",
   "execution_count": null,
   "metadata": {},
   "outputs": [],
   "source": [
    "type(api_key)"
   ]
  },
  {
   "cell_type": "code",
   "execution_count": null,
   "metadata": {},
   "outputs": [],
   "source": [
    "# Set the base URL to NASA's DONKI API:\n",
    "# Set the specifier for CMEs:\n",
    "cme_base_url = \"https://api.nasa.gov/DONKI/CME\"\n",
    "\n",
    "# Search for CMEs published between a begin and end date\n",
    "start_date = \"2013-05-01\"\n",
    "end_date   = \"2024-05-01\"\n",
    "\n",
    "# Build URL for CME\n",
    "query_url = f\"{cme_base_url}?startDate={start_date}&endDate={end_date}&api_key={api_key}\""
   ]
  },
  {
   "cell_type": "code",
   "execution_count": null,
   "metadata": {},
   "outputs": [],
   "source": [
    "# Make a \"GET\" request for the CME URL and store it in a variable named cme_response\n",
    "cme_response = requests.get(query_url)"
   ]
  },
  {
   "cell_type": "code",
   "execution_count": null,
   "metadata": {},
   "outputs": [],
   "source": [
    "# Convert the response variable to json and store it as a variable named cme_json\n",
    "cme_json = cme_response.json()"
   ]
  },
  {
   "cell_type": "code",
   "execution_count": null,
   "metadata": {},
   "outputs": [],
   "source": [
    "# Preview the first result in JSON format\n",
    "# Use json.dumps with argument indent=4 to format data\n",
    "print(json.dumps(cme_json, indent=4))"
   ]
  },
  {
   "cell_type": "code",
   "execution_count": null,
   "metadata": {},
   "outputs": [],
   "source": [
    "# Convert cme_json to a Pandas DataFrame \n",
    "cme_df = pd.DataFrame(cme_json)\n",
    "# Keep only the columns: activityID, startTime, linkedEvents\n",
    "cme_df = cme_df[['activityID', 'startTime', 'linkedEvents']]\n",
    "cme_df.head()"
   ]
  },
  {
   "cell_type": "code",
   "execution_count": null,
   "metadata": {},
   "outputs": [],
   "source": [
    "cme_df.linkedEvents.info()"
   ]
  },
  {
   "cell_type": "code",
   "execution_count": null,
   "metadata": {},
   "outputs": [],
   "source": [
    "# Notice that the linkedEvents column allows us to identify the corresponding GST\n",
    "# Remove rows with missing 'linkedEvents' since we won't be able to assign these to GSTs\n",
    "\n",
    "# Replace \"None\" with NaN\n",
    "cme_df = cme_df.replace(\"None\", pd.NA)  \n",
    "\n",
    "# Drop all rows with NaN values\n",
    "cme_df = cme_df.dropna()\n",
    "cme_df.head()"
   ]
  },
  {
   "cell_type": "code",
   "execution_count": null,
   "metadata": {},
   "outputs": [],
   "source": [
    "# Notice that the linkedEvents sometimes contains multiple events per row\n",
    "# Write a nested for loop that iterates first over each row in the cme DataFrame (using the index)\n",
    "# and then iterates over the values in 'linkedEvents' \n",
    "# and adds the elements individually to a list of dictionaries where each row is one element \n",
    "\n",
    "# Initialize an empty list to store the expanded rows\n",
    "expanded_rows = []\n",
    "\n",
    "# Iterate over each index in the DataFrame\n",
    "for i in cme_df.index:\n",
    "    activityID       = cme_df.loc[i, 'activityID']    # Get the corresponding value from 'gstID'\n",
    "    startTime        = cme_df.loc[i, 'startTime']     # Get the corresponding value from 'startTime'    \n",
    "    linkedEvents     = cme_df.loc[i, 'linkedEvents']  # Get the list of dictionaries in 'linkedEvents'\n",
    "\n",
    "    try:\n",
    "        # Iterate over each dictionary in the list\n",
    "        for item in linkedEvents:\n",
    "            # Append a new dictionary to the expanded_rows list for each dictionary item and corresponding 'activityID' and 'startTime' value\n",
    "            expanded_rows.append({'activityID': activityID, 'startTime': startTime, 'linkedEvents': item})\n",
    "    except:\n",
    "        print('missing activity')\n",
    "\n",
    "# Create a new DataFrame from the expanded rows\n",
    "cme_expanded_rows_df = pd.DataFrame(expanded_rows)\n",
    "cme_expanded_rows_df.head()"
   ]
  },
  {
   "cell_type": "code",
   "execution_count": null,
   "metadata": {},
   "outputs": [],
   "source": [
    "# Create a function called extract_activityID_from_dict that takes a dict as input such as in linkedEvents\n",
    "# and verify below that it works as expected using one row from linkedEvents as an example\n",
    "# Be sure to use a try and except block to handle errors\n",
    "def extract_activityID_from_dict(input_dict):\n",
    "    try:\n",
    "        activityID = input_dict.get('activityID', None)\n",
    "        return activityID\n",
    "    except (ValueError, TypeError) as e:\n",
    "        # Log the error or print it for debugging\n",
    "        print(f\"Error processing input dictionary: {input_dict}. Error: {e}\")\n",
    "        return None\n",
    "\n",
    "extract_activityID_from_dict(cme_expanded_rows_df.loc[0,'linkedEvents'])"
   ]
  },
  {
   "cell_type": "code",
   "execution_count": null,
   "metadata": {},
   "outputs": [],
   "source": [
    "# Apply this function to each row in the 'linkedEvents' column (you can use apply() and a lambda function)\n",
    "# and create a new column called 'GST_ActivityID' using loc indexer:\n",
    "cme_expanded_rows_df['GST_ActivityID'] = cme_expanded_rows_df['linkedEvents'].apply(lambda x: extract_activityID_from_dict(x))\n",
    "cme_expanded_rows_df.head()"
   ]
  },
  {
   "cell_type": "code",
   "execution_count": null,
   "metadata": {},
   "outputs": [],
   "source": [
    "cme_expanded_rows_df"
   ]
  },
  {
   "cell_type": "code",
   "execution_count": null,
   "metadata": {},
   "outputs": [],
   "source": [
    "cme_expanded_rows_df.info()"
   ]
  },
  {
   "cell_type": "code",
   "execution_count": null,
   "metadata": {},
   "outputs": [],
   "source": [
    "# Remove rows with missing GST_ActivityID, since we can't assign them to GSTs:"
   ]
  },
  {
   "cell_type": "code",
   "execution_count": null,
   "metadata": {},
   "outputs": [],
   "source": [
    "# print out the datatype of each column in this DataFrame:\n",
    "cme_expanded_rows_df.info()"
   ]
  },
  {
   "cell_type": "code",
   "execution_count": null,
   "metadata": {},
   "outputs": [],
   "source": [
    "# Convert the 'GST_ActivityID' column to string format \n",
    "cme_expanded_rows_df['GST_ActivityID'] = cme_expanded_rows_df['GST_ActivityID'].astype(str)"
   ]
  },
  {
   "cell_type": "code",
   "execution_count": null,
   "metadata": {},
   "outputs": [],
   "source": [
    "# Convert startTime to datetime format  \n",
    "cme_expanded_rows_df['startTime'] = pd.to_datetime(cme_expanded_rows_df['startTime'])"
   ]
  },
  {
   "cell_type": "code",
   "execution_count": null,
   "metadata": {},
   "outputs": [],
   "source": [
    "# Rename startTime to startTime_CME and activityID to cmeID\n",
    "cme_expanded_rows_df.rename(columns={'startTime': 'startTime_CME', \"activityID\": \"cmeID\"}, inplace=True)"
   ]
  },
  {
   "cell_type": "code",
   "execution_count": null,
   "metadata": {},
   "outputs": [],
   "source": [
    "# Drop linkedEvents\n",
    "cme_expanded_rows_df.drop(columns=['linkedEvents'], inplace=True)"
   ]
  },
  {
   "cell_type": "code",
   "execution_count": null,
   "metadata": {},
   "outputs": [],
   "source": [
    "# Verify that all steps were executed correctly\n",
    "cme_expanded_rows_df.info()"
   ]
  },
  {
   "cell_type": "code",
   "execution_count": null,
   "metadata": {},
   "outputs": [],
   "source": [
    "# We are only interested in CMEs related to GSTs so keep only rows where the GST_ActivityID column contains 'GST'\n",
    "# use the method 'contains()' from the str library. \n",
    "cme_expanded_rows_df = cme_expanded_rows_df[cme_expanded_rows_df['GST_ActivityID'].str.contains('GST', na=False)]\n",
    "cme_expanded_rows_df.head()"
   ]
  },
  {
   "cell_type": "code",
   "execution_count": null,
   "metadata": {},
   "outputs": [],
   "source": [
    "# Set the base URL to NASA's DONKI API:\n",
    "# Set the specifier for Geomagnetic Storms (GST):\n",
    "gst_base_url = \"https://api.nasa.gov/DONKI/GST\"\n",
    "\n",
    "# Search for GSTs between a begin and end date\n",
    "startDate = \"2013-05-01\"\n",
    "endDate   = \"2024-05-01\"\n",
    "\n",
    "# Build URL for GST\n",
    "query_url = f\"{gst_base_url}?startDate={start_date}&endDate={end_date}&api_key={api_key}\""
   ]
  },
  {
   "cell_type": "code",
   "execution_count": null,
   "metadata": {},
   "outputs": [],
   "source": [
    "# Make a \"GET\" request for the GST URL and store it in a variable named gst_response\n",
    "gst_response = requests.get(query_url)"
   ]
  },
  {
   "cell_type": "code",
   "execution_count": null,
   "metadata": {},
   "outputs": [],
   "source": [
    "# Convert the response variable to json and store it as a variable named gst_json\n",
    "gst_json = gst_response.json()\n",
    "\n",
    "# Preview the first result in JSON format\n",
    "# Use json.dumps with argument indent=4 to format data\n",
    "print(json.dumps(gst_json, indent=4))"
   ]
  },
  {
   "cell_type": "code",
   "execution_count": null,
   "metadata": {},
   "outputs": [],
   "source": [
    "# Convert gst_json to a Pandas DataFrame  \n",
    "gst_df = pd.DataFrame(gst_json)"
   ]
  },
  {
   "cell_type": "code",
   "execution_count": null,
   "metadata": {},
   "outputs": [],
   "source": [
    "print(gst_df.columns.tolist())"
   ]
  },
  {
   "cell_type": "code",
   "execution_count": null,
   "metadata": {},
   "outputs": [],
   "source": [
    "# Keep only the columns: activityID, startTime, linkedEvents\n",
    "gst_df = gst_df[['gstID', 'startTime', 'linkedEvents']]\n",
    "gst_df.head()"
   ]
  },
  {
   "cell_type": "code",
   "execution_count": null,
   "metadata": {},
   "outputs": [],
   "source": [
    "# Notice that the linkedEvents column allows us to identify the corresponding CME\n",
    "# Remove rows with missing 'linkedEvents' since we won't be able to assign these to CME\n",
    "\n",
    "# Replace \"None\" with NaN\n",
    "gst_df = gst_df.replace(\"None\", pd.NA)  \n",
    "\n",
    "# Drop all rows with NaN values\n",
    "gst_df = gst_df.dropna()\n",
    "gst_df.head()\n"
   ]
  },
  {
   "cell_type": "code",
   "execution_count": null,
   "metadata": {},
   "outputs": [],
   "source": [
    "# Notice that the linkedEvents sometimes contains multiple events per row\n",
    "# Use the explode method to ensure that each row is one element. Ensure to reset the index and drop missing values.\n",
    "expanded_rows = []\n",
    "\n",
    "# Iterate over each index in the DataFrame\n",
    "for i in gst_df.index:\n",
    "    gstID       = gst_df.loc[i, 'gstID']    # Get the corresponding value from 'gstID'\n",
    "    startTime        = gst_df.loc[i, 'startTime']     # Get the corresponding value from 'startTime'    \n",
    "    linkedEvents     = gst_df.loc[i, 'linkedEvents']  # Get the list of dictionaries in 'linkedEvents'\n",
    "\n",
    "    try:\n",
    "        # Iterate over each dictionary in the list\n",
    "        for item in linkedEvents:\n",
    "            # Append a new dictionary to the expanded_rows list for each dictionary item and corresponding 'gstID' and 'startTime' value\n",
    "            expanded_rows.append({'gstID': gstID, 'startTime': startTime, 'linkedEvents': item})\n",
    "    except:\n",
    "        print('missing activity')\n",
    "\n",
    "# Create a new DataFrame from the expanded rows\n",
    "gst_expanded_rows_df = pd.DataFrame(expanded_rows)\n",
    "gst_expanded_rows_df.head()"
   ]
  },
  {
   "cell_type": "code",
   "execution_count": null,
   "metadata": {},
   "outputs": [],
   "source": [
    "extract_activityID_from_dict(gst_expanded_rows_df.loc[0,'linkedEvents'])"
   ]
  },
  {
   "cell_type": "code",
   "execution_count": null,
   "metadata": {},
   "outputs": [],
   "source": [
    "# Apply the extract_activityID_from_dict function to each row in the 'linkedEvents' column (you can use apply() and a lambda function)\n",
    "# and create a new column called 'CME_ActivityID' using loc indexer:\n",
    "gst_expanded_rows_df['CME_ActivityID'] = gst_expanded_rows_df['linkedEvents'].apply(lambda x: extract_activityID_from_dict(x))\n",
    "gst_expanded_rows_df.head()"
   ]
  },
  {
   "cell_type": "code",
   "execution_count": null,
   "metadata": {},
   "outputs": [],
   "source": [
    "gst_expanded_rows_df.info()"
   ]
  },
  {
   "cell_type": "code",
   "execution_count": null,
   "metadata": {},
   "outputs": [],
   "source": [
    "# Convert the 'CME_ActivityID' column to string format \n",
    "gst_expanded_rows_df['CME_ActivityID'] = gst_expanded_rows_df['CME_ActivityID'].astype(str)"
   ]
  },
  {
   "cell_type": "code",
   "execution_count": null,
   "metadata": {},
   "outputs": [],
   "source": [
    "# Convert the 'gstID' column to string format \n",
    "gst_expanded_rows_df['gstID'] = gst_expanded_rows_df['gstID'].astype(str)"
   ]
  },
  {
   "cell_type": "code",
   "execution_count": null,
   "metadata": {},
   "outputs": [],
   "source": [
    "# Convert startTime to datetime format  \n",
    "gst_expanded_rows_df['startTime'] = pd.to_datetime(gst_expanded_rows_df['startTime'])"
   ]
  },
  {
   "cell_type": "code",
   "execution_count": null,
   "metadata": {},
   "outputs": [],
   "source": [
    "# Rename startTime to startTime_GST \n",
    "gst_expanded_rows_df.rename(columns={'startTime': 'startTime_GST'}, inplace=True)"
   ]
  },
  {
   "cell_type": "code",
   "execution_count": null,
   "metadata": {},
   "outputs": [],
   "source": [
    "# Drop linkedEvents\n",
    "gst_expanded_rows_df.drop(columns=['linkedEvents'], inplace=True)"
   ]
  },
  {
   "cell_type": "code",
   "execution_count": null,
   "metadata": {},
   "outputs": [],
   "source": [
    "# Verify that all steps were executed correctly\n",
    "gst_expanded_rows_df.info()"
   ]
  },
  {
   "cell_type": "code",
   "execution_count": null,
   "metadata": {},
   "outputs": [],
   "source": [
    "# We are only interested in GSTs related to CMEs so keep only rows where the CME_ActivityID column contains 'CME'\n",
    "# use the method 'contains()' from the str library.  \n",
    "gst_expanded_rows_df = gst_expanded_rows_df[gst_expanded_rows_df['CME_ActivityID'].str.contains('CME', na=False)]\n",
    "gst_expanded_rows_df.reset_index(drop=True, inplace=True)\n",
    "gst_expanded_rows_df.head()"
   ]
  },
  {
   "cell_type": "code",
   "execution_count": null,
   "metadata": {},
   "outputs": [],
   "source": [
    "# Now merge both datasets using 'gstID' and 'CME_ActivityID' for gst and 'GST_ActivityID' and 'cmeID' for cme. Use the 'left_on' and 'right_on' specifiers.\n",
    "merged_df = pd.merge(gst_expanded_rows_df, cme_expanded_rows_df, \n",
    "                     left_on='CME_ActivityID', \n",
    "                     right_on='cmeID', \n",
    "                     how='inner')\n",
    "merged_df.head()"
   ]
  },
  {
   "cell_type": "code",
   "execution_count": null,
   "metadata": {},
   "outputs": [],
   "source": [
    "# Verify that the new DataFrame has the same number of rows as cme and gst\n",
    "merged_df.info()"
   ]
  },
  {
   "cell_type": "code",
   "execution_count": null,
   "metadata": {},
   "outputs": [],
   "source": [
    "# Compute the time diff between startTime_GST and startTime_CME by creating a new column called `timeDiff`.\n",
    "merged_df['timeDiff'] = merged_df['startTime_GST'] - merged_df['startTime_CME']\n",
    "merged_df.head()"
   ]
  },
  {
   "cell_type": "code",
   "execution_count": null,
   "metadata": {},
   "outputs": [],
   "source": [
    "# Use describe() to compute the mean and median time \n",
    "# that it takes for a CME to cause a GST. \n",
    "merged_df['timeDiff'].describe()"
   ]
  },
  {
   "cell_type": "code",
   "execution_count": null,
   "metadata": {},
   "outputs": [],
   "source": [
    "# Export data to CSV without the index\n",
    "merged_df.to_csv('merged_data.csv', index=False)"
   ]
  }
 ],
 "metadata": {
  "language_info": {
   "name": "python"
  }
 },
 "nbformat": 4,
 "nbformat_minor": 2
}
